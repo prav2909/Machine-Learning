{
  "nbformat": 4,
  "nbformat_minor": 0,
  "metadata": {
    "kernelspec": {
      "display_name": "Python 3",
      "language": "python",
      "name": "python3"
    },
    "language_info": {
      "codemirror_mode": {
        "name": "ipython",
        "version": 3
      },
      "file_extension": ".py",
      "mimetype": "text/x-python",
      "name": "python",
      "nbconvert_exporter": "python",
      "pygments_lexer": "ipython3",
      "version": "3.8.0"
    },
    "colab": {
      "name": "RandomForest_on_Titanic_data.ipynb",
      "provenance": [],
      "toc_visible": true,
      "include_colab_link": true
    }
  },
  "cells": [
    {
      "cell_type": "markdown",
      "metadata": {
        "id": "view-in-github",
        "colab_type": "text"
      },
      "source": [
        "<a href=\"https://colab.research.google.com/github/prav2909/Machine-Learning/blob/master/RandomForest_on_Titanic_data.ipynb\" target=\"_parent\"><img src=\"https://colab.research.google.com/assets/colab-badge.svg\" alt=\"Open In Colab\"/></a>"
      ]
    },
    {
      "cell_type": "markdown",
      "metadata": {
        "id": "3tVWDL-v8_Q5",
        "colab_type": "text"
      },
      "source": [
        "Author : Praveen Kumar"
      ]
    },
    {
      "cell_type": "code",
      "metadata": {
        "id": "nfNb8ODH8_Q6",
        "colab_type": "code",
        "colab": {}
      },
      "source": [
        "\\\n",
        "import matplotlib.pyplot as plt\n",
        "import numpy as np\n",
        "from sklearn.tree import DecisionTreeClassifier\n",
        "\n",
        "\n",
        "def load_dataset(path):\n",
        "    import pandas as pd\n",
        "    from sklearn.model_selection import train_test_split\n",
        "\n",
        "    df = pd.read_csv('titanic.csv')\n",
        "\n",
        "    df['Title'] = df['Name'].str.extract(' ([a-zA-Z]+)\\.', expand=False)\n",
        "    df['Title'] = df['Title'].replace(['Lady', 'Countess', 'Capt', 'Col', 'Don', 'Dr', 'Major', 'Rev', 'Sir', 'Jonkheer', 'Dona'], 'Rare')\n",
        "    df['Title'] = df['Title'].replace(['Mlle', 'Ms'], 'Miss')\n",
        "    df['Title'] = df['Title'].replace('Mme', 'Mrs')\n",
        "    # We map the Title attribute to a one-hot encoding.\n",
        "    df = df.join(pd.get_dummies(df['Title'], prefix='Title'))\n",
        "\n",
        "    # We map the Sex attribute to a numeric representation.\n",
        "    df['Sex'] = df['Sex'].map({'female': 1, 'male': 0}).astype(int)\n",
        "\n",
        "    # We one-hot encode Pclass.\n",
        "    df = df.join(pd.get_dummies(df['Pclass'], prefix='Pclass'))\n",
        "\n",
        "    # Based on the number of sibling-spouses in SibSp and parents-childern in Parch, \n",
        "    # we can determine whether a passenger was on board alone.\n",
        "    df['IsAlone'] = ((df['SibSp'] + df['Parch'] + 1) == 1).astype(int)\n",
        "\n",
        "    # We remove all attributes that do not seem relevant to the prediction, or are already encoded in another attribute.\n",
        "    df = df.drop(['PassengerId', 'Name', 'Title', 'Ticket', 'Cabin', 'Parch', 'SibSp'], axis=1)\n",
        "\n",
        "    # For remaining features, we have to separate train and test, \n",
        "    # as we will impute missing data based on statistics in the training data.\n",
        "    df_train, df_test = train_test_split(df, test_size=0.2, random_state=2020)\n",
        "    # For Embarked, we set all missing values to the most frequent port and then one-hot encode the attribute.\n",
        "    def impute_embarked():    \n",
        "        freq_port = df_train['Embarked'].dropna().mode()[0]\n",
        "        output = []\n",
        "        for df in (df_train, df_test):\n",
        "            df = df.join(pd.get_dummies(df['Embarked'].fillna(freq_port), prefix='Embarked'))\n",
        "            df = df.drop('Embarked', axis=1)\n",
        "            output.append(df)\n",
        "        return output\n",
        "\n",
        "    df_train, df_test = impute_embarked()\n",
        "\n",
        "    # For Age, we set missing values to the median dependent on the pair of Sex and Pclass.\n",
        "    guess_ages = np.zeros((2, 3))\n",
        "    for df in (df_train, df_test):\n",
        "        for i in range(2):\n",
        "            for j in range(3):\n",
        "                guess_ages[i, j] = df[(df['Sex'] == i) & (df['Pclass'] == j+1)]['Age'].dropna().median()\n",
        "        for i in range(2):\n",
        "            for j in range(3):\n",
        "                df.loc[(df['Age'].isnull()) & (df['Sex'] == i) & (df['Pclass'] == j+1), 'Age'] = guess_ages[i, j]\n",
        "        df['Age'] = df['Age'].astype(int)\n",
        "\n",
        "    df_train = df_train.drop(['Pclass'], axis=1) \n",
        "    df_test = df_test.drop(['Pclass'], axis=1)\n",
        "\n",
        "    X_train = df_train.values[:, 1:]\n",
        "\n",
        "    X_test = df_test.values[:, 1:]\n",
        "    y_train = df_train.values[:, 0]\n",
        "    y_test = df_test.values[:, 0]\n",
        "    \n",
        "    return X_train, X_test, y_train, y_test\n",
        "    \n",
        "X_train, X_test, y_train, y_test = load_dataset('titanic.csv')\n"
      ],
      "execution_count": null,
      "outputs": []
    },
    {
      "cell_type": "markdown",
      "metadata": {
        "id": "JbpNZD1k8_Q_",
        "colab_type": "text"
      },
      "source": [
        "The Titanic dataset and a description can be found at [Kaggle](https://www.kaggle.com/c/titanic/data). The feature engineering mostly follows the work by [Manav Segal](https://www.kaggle.com/startupsci/titanic-data-science-solutions). \n",
        "\n",
        "The prepared dataset contains the following attributes:\n",
        "- Sex: binary (0 = Male, 1 = Female)\n",
        "- Age: integer\n",
        "- Fare: float\n",
        "- Title_{Master, Miss, Mr, Mrs, Rare}: title of passenger (extracted from name), binary, one-hot encoding of categorical variable Title\n",
        "- Pclass_{1, 2, 3}: ticket class corresponds to socio-economic status (1 = upper class, 2 = middle class, 3 = lower class), binary, one-hot encoding of categorical variable Pclass\n",
        "- IsAlone: whether the passenger has no siblings/spouses/parents/children on board, binary\n",
        "- Embarked_{C, Q, S}: port at which passenger embarked (C = Cherbourg, Q = Queenstown, S = Southampton), binary, one-hot encoding of categorical variable Embarked\n",
        "\n",
        "The classification target is:\n",
        "- Survived: binary\n",
        "\n",
        "Data is split into train-test with a 80-20 ratio yielding 712 training and 179 test samples. Train and test data is stored in the variables `(X_train, y_train)` and `(X_test, y_test)` respectively."
      ]
    },
    {
      "cell_type": "markdown",
      "metadata": {
        "id": "VLHdPrw_8_RA",
        "colab_type": "text"
      },
      "source": [
        "## Random Forest\n",
        "\n",
        "In this task, you will implement a random forest classifier using the scikit-learn implementation of the decision tree. \n",
        "\n",
        "Using bootstrap sampling and sample 20% of the original data set for each tree. Randomly select 6 attributes/columns for each trained tree. The prediction of each tree is weighted equally in the majority vote. Using the already imported class `DecisionTreeClassifier` for your decision trees. \n",
        "\n",
        "We will evaluate the model on the test data using scikit-learn with the confusion matrix \n"
      ]
    },
    {
      "cell_type": "code",
      "metadata": {
        "id": "2jBjPCTV8_RA",
        "colab_type": "code",
        "colab": {}
      },
      "source": [
        "class RandomForestClassifier(object):\n",
        "    def __init__(self, number_of_trees):\n",
        "        self.number_of_trees = number_of_trees\n",
        "        self.forest = []\n",
        "        \n",
        "    def fit(self, X, y):\n",
        "      # Implemented training here.\n",
        "        clf = DecisionTreeClassifier(random_state=0)\n",
        "        for i in range(self.number_of_trees):\n",
        "          bootstrap_indices = np.random.randint(low=0, high=len(X_train), size=int(len(X_train)*0.20))\n",
        "          idx_col = np.random.choice(15, size = 6, replace = False)\n",
        "\n",
        "          data_bootstrapped = X[bootstrap_indices]\n",
        "          y_bootstrapped = y[bootstrap_indices]\n",
        "          data_bootstrapped_up = np.transpose(data_bootstrapped)\n",
        "          data_bootstrapped_up = data_bootstrapped_up[idx_col]\n",
        "          data_bootstrapped_up = np.transpose(data_bootstrapped_up)\n",
        "\n",
        "          clf = DecisionTreeClassifier()\n",
        "          clf = clf.fit(data_bootstrapped_up,y_bootstrapped)\n",
        "\n",
        "          self.forest.append(clf)\n",
        "\n",
        "        \n",
        "        pass\n",
        "    \n",
        "    def predict(self, X):\n",
        "        # Implemented prediction here.\n",
        "        a = 0\n",
        "        b = 0\n",
        "        X = X[0][0:6]\n",
        "        X = X.reshape(1,-1)\n",
        "        for i in range(len(self.forest)):\n",
        "          clf = self.forest[i]\n",
        "          y_pred = clf.predict(X) \n",
        "          if y_pred == 1:\n",
        "            a += 1\n",
        "          elif y_pred == 0:\n",
        "            b += 1\n",
        "\n",
        "        if(a>=b):\n",
        "          return 1\n",
        "        elif(b>a):\n",
        "          return 0\n",
        "\n",
        "        "
      ],
      "execution_count": null,
      "outputs": []
    },
    {
      "cell_type": "code",
      "metadata": {
        "id": "LLZ3tntt8_RE",
        "colab_type": "code",
        "colab": {
          "base_uri": "https://localhost:8080/",
          "height": 537
        },
        "outputId": "1252f97c-3721-4e55-fd6f-25fd4510da97"
      },
      "source": [
        "# Implemented training and evaluation here.\n",
        "from sklearn.metrics import confusion_matrix\n",
        "from sklearn.metrics import ConfusionMatrixDisplay\n",
        "\n",
        "\n",
        "number_of_trees = 200\n",
        "forestClf = RandomForestClassifier(number_of_trees)\n",
        "forestClf.fit(X_train, y_train)\n",
        "\n",
        "#Training\n",
        "pred_data = []\n",
        "for i in range(len(X_test)):\n",
        "  X_test_rows = X_test[i]\n",
        "  X_test_rows = X_test_rows.reshape(1,-1)\n",
        "  x_pred = forestClf.predict(X_test_rows)\n",
        "  pred_data.append(x_pred)\n",
        "\n",
        "#Predicting\n",
        "cm = confusion_matrix(y_test, pred_data)\n",
        "target_names = ['0', '1']\n",
        "\n",
        "cm_display = ConfusionMatrixDisplay(cm, display_labels=target_names)\n",
        "fig, ax = plt.subplots(figsize=(9,9))\n",
        "cm_display.plot(cmap = 'Blues', ax = ax)"
      ],
      "execution_count": null,
      "outputs": [
        {
          "output_type": "execute_result",
          "data": {
            "text/plain": [
              "<sklearn.metrics._plot.confusion_matrix.ConfusionMatrixDisplay at 0x7f6208f43748>"
            ]
          },
          "metadata": {
            "tags": []
          },
          "execution_count": 74
        },
        {
          "output_type": "display_data",
          "data": {
            "image/png": "[encoded data removed]",
            "text/plain": [
              "<Figure size 648x648 with 2 Axes>"
            ]
          },
          "metadata": {
            "tags": [],
            "needs_background": "light"
          }
        }
      ]
    }
  ]
}